{
 "cells": [
  {
   "cell_type": "code",
   "execution_count": 2,
   "id": "16b54be1-00d0-4932-9508-ce025d678c4b",
   "metadata": {},
   "outputs": [],
   "source": [
    "import onnxruntime_genai as og\n",
    "from difflib import SequenceMatcher\n"
   ]
  },
  {
   "cell_type": "code",
   "execution_count": 3,
   "id": "00feb174-29ee-4f2c-b1ef-21e70ffd4c8c",
   "metadata": {},
   "outputs": [],
   "source": [
    "\n",
    "def calculate_sequence_similarity(seq1, seq2):\n",
    "    \"\"\"Calculate the similarity between two sequences using SequenceMatcher.\"\"\"\n",
    "    return SequenceMatcher(None, seq1, seq2).ratio()\n",
    "\n",
    "def calculate_token_accuracy(predicted_tokens, expected_tokens):\n",
    "    \"\"\"Calculate token-level accuracy by comparing the predicted and expected tokens.\"\"\"\n",
    "    correct = sum(p == e for p, e in zip(predicted_tokens, expected_tokens))\n",
    "    total = len(expected_tokens)\n",
    "    accuracy = correct / total\n",
    "    return accuracy\n",
    "\n",
    "def evaluate_model_without_logits(model, tokenizer, prompt, answers, expected_tokens):\n",
    "    evaluation_results = []\n",
    "    \n",
    "    # Tokenize the prompt\n",
    "    prompt_tokens = tokenizer.encode(prompt)\n",
    "    \n",
    "    for i, answer in enumerate(answers):\n",
    "        # Combine prompt with each answer\n",
    "        full_input = prompt + ' ' + answer\n",
    "        input_tokens = tokenizer.encode(full_input)\n",
    "        \n",
    "        # Pass input tokens to the model\n",
    "        params = og.GeneratorParams(model)\n",
    "        params.input_ids = input_tokens\n",
    "        \n",
    "        # Get the output from the model\n",
    "        output = model.generate(params)\n",
    "        \n",
    "        # Predicted token IDs from the model (assuming output is token IDs)\n",
    "        token_predictions = output[0]\n",
    "        \n",
    "        # Token-level accuracy\n",
    "        token_accuracy = calculate_token_accuracy(token_predictions, expected_tokens[i])\n",
    "        \n",
    "        # Sequence similarity using edit distance\n",
    "        sequence_similarity = calculate_sequence_similarity(token_predictions, expected_tokens[i])\n",
    "        \n",
    "        # Store results\n",
    "        evaluation_results.append({\n",
    "            'answer': answer,\n",
    "            'token_accuracy': token_accuracy,\n",
    "            'sequence_similarity': sequence_similarity,\n",
    "            'predicted_tokens': token_predictions\n",
    "        })\n",
    "    \n",
    "    return evaluation_results\n"
   ]
  },
  {
   "cell_type": "code",
   "execution_count": 4,
   "id": "ff69fc52-7a79-4ae0-9cdb-fd7422ef0a11",
   "metadata": {},
   "outputs": [],
   "source": [
    "\n",
    "# Example usage\n",
    "model = og.Model('onnx-built-models/phi-3-mini-4k-instruct-onnx-cpu')\n",
    "tokenizer = og.Tokenizer(model)\n"
   ]
  },
  {
   "cell_type": "code",
   "execution_count": null,
   "id": "98470006-8b1f-4948-a2fd-fba176f0e8c5",
   "metadata": {},
   "outputs": [],
   "source": [
    "%%time\n",
    "\n",
    "prompt = \"What is the capital of France?\"\n",
    "answers = [\"A. Paris\", \"B. London\", \"C. Rome\", \"D. Madrid\"]\n",
    "\n",
    "# Expected tokens (manually obtained or from a known correct response)\n",
    "expected_tokens = [\n",
    "    tokenizer.encode(\"A. Paris\"),\n",
    "    tokenizer.encode(\"B. London\"),\n",
    "    tokenizer.encode(\"C. Rome\"),\n",
    "    tokenizer.encode(\"D. Madrid\")\n",
    "]\n",
    "\n",
    "evaluation_results = evaluate_model_without_logits(model, tokenizer, prompt, answers, expected_tokens)\n",
    "\n",
    "for result in evaluation_results:\n",
    "    print(f\"Answer: {result['answer']}\")\n",
    "    print(f\"Token Accuracy: {result['token_accuracy'] * 100:.2f}%\")\n",
    "    print(f\"Sequence Similarity: {result['sequence_similarity'] * 100:.2f}%\")\n",
    "    print(f\"Predicted Tokens: {result['predicted_tokens']}\")\n",
    "    print()\n"
   ]
  },
  {
   "cell_type": "code",
   "execution_count": null,
   "id": "a125e220-16ad-4a47-86e0-23f2f74386b5",
   "metadata": {},
   "outputs": [],
   "source": []
  }
 ],
 "metadata": {
  "kernelspec": {
   "display_name": "Python 3 (ipykernel)",
   "language": "python",
   "name": "python3"
  },
  "language_info": {
   "codemirror_mode": {
    "name": "ipython",
    "version": 3
   },
   "file_extension": ".py",
   "mimetype": "text/x-python",
   "name": "python",
   "nbconvert_exporter": "python",
   "pygments_lexer": "ipython3",
   "version": "3.11.2"
  }
 },
 "nbformat": 4,
 "nbformat_minor": 5
}

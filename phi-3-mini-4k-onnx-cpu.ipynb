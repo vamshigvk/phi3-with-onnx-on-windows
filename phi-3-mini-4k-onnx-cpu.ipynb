{
 "cells": [
  {
   "cell_type": "markdown",
   "id": "2e196e5c-6ad5-4678-9723-d9d49fee44ed",
   "metadata": {},
   "source": [
    "### References"
   ]
  },
  {
   "cell_type": "markdown",
   "id": "772f823e-5166-4ad8-99b3-b9fc3d1cb7b4",
   "metadata": {},
   "source": [
    "1. https://onnxruntime.ai/docs/genai/tutorials/phi3-python.html#run-on-cpu\n",
    "2. https://huggingface.co/microsoft/Phi-3-mini-4k-instruct-onnx"
   ]
  },
  {
   "cell_type": "markdown",
   "id": "bcb79d39-3277-48f2-8b97-2465232a3408",
   "metadata": {},
   "source": [
    "### libraries required"
   ]
  },
  {
   "cell_type": "code",
   "execution_count": 1,
   "id": "ed5cf13a-93fb-42b6-b5a6-0af800e45ed0",
   "metadata": {
    "scrolled": true
   },
   "outputs": [
    {
     "name": "stdout",
     "output_type": "stream",
     "text": [
      "Defaulting to user installation because normal site-packages is not writeable"
     ]
    },
    {
     "name": "stderr",
     "output_type": "stream",
     "text": [
      "  WARNING: The script isympy.exe is installed in 'C:\\Users\\tejasree\\AppData\\Local\\Packages\\PythonSoftwareFoundation.Python.3.12_qbz5n2kfra8p0\\LocalCache\\local-packages\\Python312\\Scripts' which is not on PATH.\n",
      "  Consider adding this directory to PATH or, if you prefer to suppress this warning, use --no-warn-script-location.\n",
      "  WARNING: The script humanfriendly.exe is installed in 'C:\\Users\\tejasree\\AppData\\Local\\Packages\\PythonSoftwareFoundation.Python.3.12_qbz5n2kfra8p0\\LocalCache\\local-packages\\Python312\\Scripts' which is not on PATH.\n",
      "  Consider adding this directory to PATH or, if you prefer to suppress this warning, use --no-warn-script-location.\n",
      "  WARNING: The script coloredlogs.exe is installed in 'C:\\Users\\tejasree\\AppData\\Local\\Packages\\PythonSoftwareFoundation.Python.3.12_qbz5n2kfra8p0\\LocalCache\\local-packages\\Python312\\Scripts' which is not on PATH.\n",
      "  Consider adding this directory to PATH or, if you prefer to suppress this warning, use --no-warn-script-location.\n",
      "  WARNING: The script onnxruntime_test.exe is installed in 'C:\\Users\\tejasree\\AppData\\Local\\Packages\\PythonSoftwareFoundation.Python.3.12_qbz5n2kfra8p0\\LocalCache\\local-packages\\Python312\\Scripts' which is not on PATH.\n",
      "  Consider adding this directory to PATH or, if you prefer to suppress this warning, use --no-warn-script-location.\n"
     ]
    },
    {
     "name": "stdout",
     "output_type": "stream",
     "text": [
      "\n",
      "Collecting onnxruntime\n",
      "  Downloading onnxruntime-1.19.0-cp312-cp312-win_amd64.whl.metadata (4.5 kB)\n",
      "Collecting coloredlogs (from onnxruntime)\n",
      "  Downloading coloredlogs-15.0.1-py2.py3-none-any.whl.metadata (12 kB)\n",
      "Collecting flatbuffers (from onnxruntime)\n",
      "  Downloading flatbuffers-24.3.25-py2.py3-none-any.whl.metadata (850 bytes)\n",
      "Requirement already satisfied: numpy>=1.21.6 in c:\\users\\tejasree\\appdata\\local\\packages\\pythonsoftwarefoundation.python.3.12_qbz5n2kfra8p0\\localcache\\local-packages\\python312\\site-packages (from onnxruntime) (2.1.0)\n",
      "Requirement already satisfied: packaging in c:\\users\\tejasree\\appdata\\local\\packages\\pythonsoftwarefoundation.python.3.12_qbz5n2kfra8p0\\localcache\\local-packages\\python312\\site-packages (from onnxruntime) (24.1)\n",
      "Collecting protobuf (from onnxruntime)\n",
      "  Downloading protobuf-5.27.4-cp310-abi3-win_amd64.whl.metadata (592 bytes)\n",
      "Collecting sympy (from onnxruntime)\n",
      "  Downloading sympy-1.13.2-py3-none-any.whl.metadata (12 kB)\n",
      "Collecting humanfriendly>=9.1 (from coloredlogs->onnxruntime)\n",
      "  Downloading humanfriendly-10.0-py2.py3-none-any.whl.metadata (9.2 kB)\n",
      "Collecting mpmath<1.4,>=1.1.0 (from sympy->onnxruntime)\n",
      "  Downloading mpmath-1.3.0-py3-none-any.whl.metadata (8.6 kB)\n",
      "Collecting pyreadline3 (from humanfriendly>=9.1->coloredlogs->onnxruntime)\n",
      "  Downloading pyreadline3-3.4.1-py3-none-any.whl.metadata (2.0 kB)\n",
      "Downloading onnxruntime-1.19.0-cp312-cp312-win_amd64.whl (11.1 MB)\n",
      "   ---------------------------------------- 0.0/11.1 MB ? eta -:--:--\n",
      "   - -------------------------------------- 0.5/11.1 MB 4.2 MB/s eta 0:00:03\n",
      "   -- ------------------------------------- 0.8/11.1 MB 3.7 MB/s eta 0:00:03\n",
      "   --- ------------------------------------ 1.0/11.1 MB 1.9 MB/s eta 0:00:06\n",
      "   -------- ------------------------------- 2.4/11.1 MB 2.9 MB/s eta 0:00:03\n",
      "   ----------- ---------------------------- 3.1/11.1 MB 3.1 MB/s eta 0:00:03\n",
      "   ------------ --------------------------- 3.4/11.1 MB 3.2 MB/s eta 0:00:03\n",
      "   --------------- ------------------------ 4.2/11.1 MB 3.0 MB/s eta 0:00:03\n",
      "   ------------------- -------------------- 5.5/11.1 MB 3.4 MB/s eta 0:00:02\n",
      "   -------------------- ------------------- 5.8/11.1 MB 3.4 MB/s eta 0:00:02\n",
      "   ----------------------- ---------------- 6.6/11.1 MB 3.2 MB/s eta 0:00:02\n",
      "   --------------------------- ------------ 7.6/11.1 MB 3.4 MB/s eta 0:00:02\n",
      "   ------------------------------ --------- 8.4/11.1 MB 3.4 MB/s eta 0:00:01\n",
      "   ------------------------------- -------- 8.7/11.1 MB 3.4 MB/s eta 0:00:01\n",
      "   -------------------------------- ------- 8.9/11.1 MB 3.1 MB/s eta 0:00:01\n",
      "   ----------------------------------- ---- 9.7/11.1 MB 3.1 MB/s eta 0:00:01\n",
      "   ----------------------------------- ---- 9.7/11.1 MB 3.1 MB/s eta 0:00:01\n",
      "   ------------------------------------ --- 10.2/11.1 MB 3.0 MB/s eta 0:00:01\n",
      "   ------------------------------------ --- 10.2/11.1 MB 3.0 MB/s eta 0:00:01\n",
      "   ---------------------------------------- 11.1/11.1 MB 2.8 MB/s eta 0:00:00\n",
      "Downloading coloredlogs-15.0.1-py2.py3-none-any.whl (46 kB)\n",
      "Downloading flatbuffers-24.3.25-py2.py3-none-any.whl (26 kB)\n",
      "Downloading protobuf-5.27.4-cp310-abi3-win_amd64.whl (426 kB)\n",
      "Downloading sympy-1.13.2-py3-none-any.whl (6.2 MB)\n",
      "   ---------------------------------------- 0.0/6.2 MB ? eta -:--:--\n",
      "   - -------------------------------------- 0.3/6.2 MB ? eta -:--:--\n",
      "   --- ------------------------------------ 0.5/6.2 MB 2.8 MB/s eta 0:00:03\n",
      "   ---------- ----------------------------- 1.6/6.2 MB 3.1 MB/s eta 0:00:02\n",
      "   --------------- ------------------------ 2.4/6.2 MB 3.9 MB/s eta 0:00:01\n",
      "   -------------------- ------------------- 3.1/6.2 MB 3.4 MB/s eta 0:00:01\n",
      "   --------------------------- ------------ 4.2/6.2 MB 3.8 MB/s eta 0:00:01\n",
      "   --------------------------------- ------ 5.2/6.2 MB 3.8 MB/s eta 0:00:01\n",
      "   ----------------------------------- ---- 5.5/6.2 MB 3.8 MB/s eta 0:00:01\n",
      "   -------------------------------------- - 6.0/6.2 MB 3.5 MB/s eta 0:00:01\n",
      "   ---------------------------------------- 6.2/6.2 MB 3.2 MB/s eta 0:00:00\n",
      "Downloading humanfriendly-10.0-py2.py3-none-any.whl (86 kB)\n",
      "Downloading mpmath-1.3.0-py3-none-any.whl (536 kB)\n",
      "   ---------------------------------------- 0.0/536.2 kB ? eta -:--:--\n",
      "   ---------------------------------------- 536.2/536.2 kB 8.8 MB/s eta 0:00:00\n",
      "Downloading pyreadline3-3.4.1-py3-none-any.whl (95 kB)\n",
      "Installing collected packages: pyreadline3, mpmath, flatbuffers, sympy, protobuf, humanfriendly, coloredlogs, onnxruntime\n",
      "Successfully installed coloredlogs-15.0.1 flatbuffers-24.3.25 humanfriendly-10.0 mpmath-1.3.0 onnxruntime-1.19.0 protobuf-5.27.4 pyreadline3-3.4.1 sympy-1.13.2\n",
      "Defaulting to user installation because normal site-packages is not writeable\n",
      "Collecting huggingface_hub[cli]\n",
      "  Downloading huggingface_hub-0.24.6-py3-none-any.whl.metadata (13 kB)\n",
      "Collecting filelock (from huggingface_hub[cli])\n",
      "  Downloading filelock-3.15.4-py3-none-any.whl.metadata (2.9 kB)\n",
      "Collecting fsspec>=2023.5.0 (from huggingface_hub[cli])\n",
      "  Downloading fsspec-2024.6.1-py3-none-any.whl.metadata (11 kB)\n",
      "Requirement already satisfied: packaging>=20.9 in c:\\users\\tejasree\\appdata\\local\\packages\\pythonsoftwarefoundation.python.3.12_qbz5n2kfra8p0\\localcache\\local-packages\\python312\\site-packages (from huggingface_hub[cli]) (24.1)\n",
      "Requirement already satisfied: pyyaml>=5.1 in c:\\users\\tejasree\\appdata\\local\\packages\\pythonsoftwarefoundation.python.3.12_qbz5n2kfra8p0\\localcache\\local-packages\\python312\\site-packages (from huggingface_hub[cli]) (6.0.2)\n",
      "Requirement already satisfied: requests in c:\\users\\tejasree\\appdata\\local\\packages\\pythonsoftwarefoundation.python.3.12_qbz5n2kfra8p0\\localcache\\local-packages\\python312\\site-packages (from huggingface_hub[cli]) (2.32.3)\n",
      "Collecting tqdm>=4.42.1 (from huggingface_hub[cli])\n",
      "  Downloading tqdm-4.66.5-py3-none-any.whl.metadata (57 kB)\n",
      "Collecting typing-extensions>=3.7.4.3 (from huggingface_hub[cli])\n",
      "  Downloading typing_extensions-4.12.2-py3-none-any.whl.metadata (3.0 kB)\n",
      "Collecting InquirerPy==0.3.4 (from huggingface_hub[cli])\n",
      "  Downloading InquirerPy-0.3.4-py3-none-any.whl.metadata (8.1 kB)\n",
      "Collecting pfzy<0.4.0,>=0.3.1 (from InquirerPy==0.3.4->huggingface_hub[cli])\n",
      "  Downloading pfzy-0.3.4-py3-none-any.whl.metadata (4.9 kB)\n",
      "Requirement already satisfied: prompt-toolkit<4.0.0,>=3.0.1 in c:\\users\\tejasree\\appdata\\local\\packages\\pythonsoftwarefoundation.python.3.12_qbz5n2kfra8p0\\localcache\\local-packages\\python312\\site-packages (from InquirerPy==0.3.4->huggingface_hub[cli]) (3.0.47)\n",
      "Requirement already satisfied: colorama in c:\\users\\tejasree\\appdata\\local\\packages\\pythonsoftwarefoundation.python.3.12_qbz5n2kfra8p0\\localcache\\local-packages\\python312\\site-packages (from tqdm>=4.42.1->huggingface_hub[cli]) (0.4.6)\n",
      "Requirement already satisfied: charset-normalizer<4,>=2 in c:\\users\\tejasree\\appdata\\local\\packages\\pythonsoftwarefoundation.python.3.12_qbz5n2kfra8p0\\localcache\\local-packages\\python312\\site-packages (from requests->huggingface_hub[cli]) (3.3.2)\n",
      "Requirement already satisfied: idna<4,>=2.5 in c:\\users\\tejasree\\appdata\\local\\packages\\pythonsoftwarefoundation.python.3.12_qbz5n2kfra8p0\\localcache\\local-packages\\python312\\site-packages (from requests->huggingface_hub[cli]) (3.8)\n",
      "Requirement already satisfied: urllib3<3,>=1.21.1 in c:\\users\\tejasree\\appdata\\local\\packages\\pythonsoftwarefoundation.python.3.12_qbz5n2kfra8p0\\localcache\\local-packages\\python312\\site-packages (from requests->huggingface_hub[cli]) (2.2.2)\n",
      "Requirement already satisfied: certifi>=2017.4.17 in c:\\users\\tejasree\\appdata\\local\\packages\\pythonsoftwarefoundation.python.3.12_qbz5n2kfra8p0\\localcache\\local-packages\\python312\\site-packages (from requests->huggingface_hub[cli]) (2024.7.4)\n",
      "Requirement already satisfied: wcwidth in c:\\users\\tejasree\\appdata\\local\\packages\\pythonsoftwarefoundation.python.3.12_qbz5n2kfra8p0\\localcache\\local-packages\\python312\\site-packages (from prompt-toolkit<4.0.0,>=3.0.1->InquirerPy==0.3.4->huggingface_hub[cli]) (0.2.13)\n",
      "Downloading InquirerPy-0.3.4-py3-none-any.whl (67 kB)\n",
      "Downloading fsspec-2024.6.1-py3-none-any.whl (177 kB)\n",
      "Downloading tqdm-4.66.5-py3-none-any.whl (78 kB)\n",
      "Downloading typing_extensions-4.12.2-py3-none-any.whl (37 kB)\n",
      "Downloading filelock-3.15.4-py3-none-any.whl (16 kB)\n",
      "Downloading huggingface_hub-0.24.6-py3-none-any.whl (417 kB)\n",
      "Downloading pfzy-0.3.4-py3-none-any.whl (8.5 kB)\n",
      "Installing collected packages: typing-extensions, tqdm, pfzy, fsspec, filelock, InquirerPy, huggingface_hub\n",
      "Successfully installed InquirerPy-0.3.4 filelock-3.15.4 fsspec-2024.6.1 huggingface_hub-0.24.6 pfzy-0.3.4 tqdm-4.66.5 typing-extensions-4.12.2\n"
     ]
    },
    {
     "name": "stderr",
     "output_type": "stream",
     "text": [
      "  WARNING: The script tqdm.exe is installed in 'C:\\Users\\tejasree\\AppData\\Local\\Packages\\PythonSoftwareFoundation.Python.3.12_qbz5n2kfra8p0\\LocalCache\\local-packages\\Python312\\Scripts' which is not on PATH.\n",
      "  Consider adding this directory to PATH or, if you prefer to suppress this warning, use --no-warn-script-location.\n",
      "  WARNING: The script huggingface-cli.exe is installed in 'C:\\Users\\tejasree\\AppData\\Local\\Packages\\PythonSoftwareFoundation.Python.3.12_qbz5n2kfra8p0\\LocalCache\\local-packages\\Python312\\Scripts' which is not on PATH.\n",
      "  Consider adding this directory to PATH or, if you prefer to suppress this warning, use --no-warn-script-location.\n"
     ]
    },
    {
     "name": "stdout",
     "output_type": "stream",
     "text": [
      "Defaulting to user installation because normal site-packages is not writeable\n",
      "Requirement already satisfied: numpy in c:\\users\\tejasree\\appdata\\local\\packages\\pythonsoftwarefoundation.python.3.12_qbz5n2kfra8p0\\localcache\\local-packages\\python312\\site-packages (2.1.0)\n",
      "Defaulting to user installation because normal site-packages is not writeable\n",
      "Collecting onnxruntime-genai\n",
      "  Downloading onnxruntime_genai-0.4.0-cp312-cp312-win_amd64.whl.metadata (664 bytes)\n",
      "Requirement already satisfied: numpy>=1.21.6 in c:\\users\\tejasree\\appdata\\local\\packages\\pythonsoftwarefoundation.python.3.12_qbz5n2kfra8p0\\localcache\\local-packages\\python312\\site-packages (from onnxruntime-genai) (2.1.0)\n",
      "Requirement already satisfied: onnxruntime>=1.19.0 in c:\\users\\tejasree\\appdata\\local\\packages\\pythonsoftwarefoundation.python.3.12_qbz5n2kfra8p0\\localcache\\local-packages\\python312\\site-packages (from onnxruntime-genai) (1.19.0)\n",
      "Requirement already satisfied: coloredlogs in c:\\users\\tejasree\\appdata\\local\\packages\\pythonsoftwarefoundation.python.3.12_qbz5n2kfra8p0\\localcache\\local-packages\\python312\\site-packages (from onnxruntime>=1.19.0->onnxruntime-genai) (15.0.1)\n",
      "Requirement already satisfied: flatbuffers in c:\\users\\tejasree\\appdata\\local\\packages\\pythonsoftwarefoundation.python.3.12_qbz5n2kfra8p0\\localcache\\local-packages\\python312\\site-packages (from onnxruntime>=1.19.0->onnxruntime-genai) (24.3.25)\n",
      "Requirement already satisfied: packaging in c:\\users\\tejasree\\appdata\\local\\packages\\pythonsoftwarefoundation.python.3.12_qbz5n2kfra8p0\\localcache\\local-packages\\python312\\site-packages (from onnxruntime>=1.19.0->onnxruntime-genai) (24.1)\n",
      "Requirement already satisfied: protobuf in c:\\users\\tejasree\\appdata\\local\\packages\\pythonsoftwarefoundation.python.3.12_qbz5n2kfra8p0\\localcache\\local-packages\\python312\\site-packages (from onnxruntime>=1.19.0->onnxruntime-genai) (5.27.4)\n",
      "Requirement already satisfied: sympy in c:\\users\\tejasree\\appdata\\local\\packages\\pythonsoftwarefoundation.python.3.12_qbz5n2kfra8p0\\localcache\\local-packages\\python312\\site-packages (from onnxruntime>=1.19.0->onnxruntime-genai) (1.13.2)\n",
      "Requirement already satisfied: humanfriendly>=9.1 in c:\\users\\tejasree\\appdata\\local\\packages\\pythonsoftwarefoundation.python.3.12_qbz5n2kfra8p0\\localcache\\local-packages\\python312\\site-packages (from coloredlogs->onnxruntime>=1.19.0->onnxruntime-genai) (10.0)\n",
      "Requirement already satisfied: mpmath<1.4,>=1.1.0 in c:\\users\\tejasree\\appdata\\local\\packages\\pythonsoftwarefoundation.python.3.12_qbz5n2kfra8p0\\localcache\\local-packages\\python312\\site-packages (from sympy->onnxruntime>=1.19.0->onnxruntime-genai) (1.3.0)\n",
      "Requirement already satisfied: pyreadline3 in c:\\users\\tejasree\\appdata\\local\\packages\\pythonsoftwarefoundation.python.3.12_qbz5n2kfra8p0\\localcache\\local-packages\\python312\\site-packages (from humanfriendly>=9.1->coloredlogs->onnxruntime>=1.19.0->onnxruntime-genai) (3.4.1)\n",
      "Downloading onnxruntime_genai-0.4.0-cp312-cp312-win_amd64.whl (983 kB)\n",
      "   ---------------------------------------- 0.0/983.6 kB ? eta -:--:--\n",
      "   ---------------------------------------- 0.0/983.6 kB ? eta -:--:--\n",
      "   ------------------------------- -------- 786.4/983.6 kB 3.7 MB/s eta 0:00:01\n",
      "   ---------------------------------------- 983.6/983.6 kB 3.6 MB/s eta 0:00:00\n",
      "Installing collected packages: onnxruntime-genai\n",
      "Successfully installed onnxruntime-genai-0.4.0\n"
     ]
    }
   ],
   "source": [
    "!pip install onnxruntime\n",
    "!pip install -U \"huggingface_hub[cli]\"\n",
    "!pip install numpy\n",
    "!pip install --pre onnxruntime-genai\n"
   ]
  },
  {
   "cell_type": "code",
   "execution_count": 2,
   "id": "aa8063b6-b090-44e3-9ba4-43b2797fc604",
   "metadata": {
    "scrolled": true
   },
   "outputs": [
    {
     "ename": "NameError",
     "evalue": "name 'huggingface' is not defined",
     "output_type": "error",
     "traceback": [
      "\u001b[1;31m---------------------------------------------------------------------------\u001b[0m",
      "\u001b[1;31mNameError\u001b[0m                                 Traceback (most recent call last)",
      "Cell \u001b[1;32mIn[2], line 1\u001b[0m\n\u001b[1;32m----> 1\u001b[0m \u001b[43mhuggingface\u001b[49m\u001b[38;5;241m-\u001b[39mcli \u001b[38;5;241m-\u001b[39m\u001b[38;5;241m-\u001b[39mhelp\n",
      "\u001b[1;31mNameError\u001b[0m: name 'huggingface' is not defined"
     ]
    }
   ],
   "source": [
    "huggingface-cli --help"
   ]
  },
  {
   "cell_type": "markdown",
   "id": "60a9440b-0fef-4c33-802b-9b27540a6687",
   "metadata": {},
   "source": [
    "### download phi-3-onnx-cpu model using huggingface-cli"
   ]
  },
  {
   "cell_type": "code",
   "execution_count": 7,
   "id": "3061d392-bd64-49c2-a000-d41771017d55",
   "metadata": {
    "scrolled": true
   },
   "outputs": [
    {
     "name": "stderr",
     "output_type": "stream",
     "text": [
      "'huggingface-cli' is not recognized as an internal or external command,\n",
      "operable program or batch file.\n"
     ]
    }
   ],
   "source": [
    "!huggingface-cli download microsoft/Phi-3-mini-4k-instruct-onnx --include cpu_and_mobile/cpu-int4-rtn-block-32-acc-level-4/* --local-dir ."
   ]
  },
  {
   "cell_type": "markdown",
   "id": "a08affcd-ba36-4e09-9a62-111f790d4531",
   "metadata": {},
   "source": [
    "### OR Download using git"
   ]
  },
  {
   "cell_type": "code",
   "execution_count": null,
   "id": "6aa01234-cf58-498b-912c-a333ca1fe4a2",
   "metadata": {},
   "outputs": [],
   "source": [
    "!git lfs install\n",
    "!git clone https://huggingface.co/microsoft/Phi-3-mini-4k-instruct-onnx"
   ]
  },
  {
   "cell_type": "code",
   "execution_count": null,
   "id": "372ce2de-d7c1-4995-9526-6026dff45553",
   "metadata": {},
   "outputs": [],
   "source": [
    "python model-qa.py -m /*{YourModelPath}*/onnx/cpu_and_mobile/phi-3-mini-4k-instruct-int4-cpu -k 40 -p 0.95 -t 0.8 -r 1.0"
   ]
  },
  {
   "cell_type": "markdown",
   "id": "bfd6f170-a798-47fb-b0cc-99ab9f1c6a66",
   "metadata": {},
   "source": [
    "### download python file to run the phi-onnx model"
   ]
  },
  {
   "cell_type": "code",
   "execution_count": 13,
   "id": "494778e7-bcf5-4d1f-a2df-dae3753d2395",
   "metadata": {},
   "outputs": [
    {
     "name": "stderr",
     "output_type": "stream",
     "text": [
      "'C:\\Users\\Vamshi' is not recognized as an internal or external command,\n",
      "operable program or batch file.\n",
      "  % Total    % Received % Xferd  Average Speed   Time    Time     Time  Current\n",
      "                                 Dload  Upload   Total   Spent    Left  Speed\n",
      "\n",
      "  0     0    0     0    0     0      0      0 --:--:-- --:--:-- --:--:--     0\n",
      " 93  4427   93  4134    0     0   7496      0 --:--:-- --:--:-- --:--:--  7530\n",
      "100  4427  100  4427    0     0   8024      0 --:--:-- --:--:-- --:--:--  8049\n"
     ]
    }
   ],
   "source": [
    "!curl https://raw.githubusercontent.com/microsoft/onnxruntime-genai/main/examples/python/phi3-qa.py -o phi3-qa.py"
   ]
  },
  {
   "cell_type": "markdown",
   "id": "7c79c65f-781c-4fae-a8ea-00af6533fb66",
   "metadata": {},
   "source": [
    "### run the model"
   ]
  },
  {
   "cell_type": "code",
   "execution_count": 3,
   "id": "6dbe0cf1-c719-4a92-9006-60c83f087851",
   "metadata": {},
   "outputs": [
    {
     "name": "stdout",
     "output_type": "stream",
     "text": [
      "^C\n"
     ]
    }
   ],
   "source": [
    "!python phi3-qa.py -m cpu_and_mobile/cpu-int4-rtn-block-32-acc-level-4"
   ]
  },
  {
   "cell_type": "code",
   "execution_count": null,
   "id": "d9f4c3da-4014-4525-93bf-12365d0f1cad",
   "metadata": {},
   "outputs": [],
   "source": []
  }
 ],
 "metadata": {
  "kernelspec": {
   "display_name": "Python 3 (ipykernel)",
   "language": "python",
   "name": "python3"
  },
  "language_info": {
   "codemirror_mode": {
    "name": "ipython",
    "version": 3
   },
   "file_extension": ".py",
   "mimetype": "text/x-python",
   "name": "python",
   "nbconvert_exporter": "python",
   "pygments_lexer": "ipython3",
   "version": "3.12.5"
  }
 },
 "nbformat": 4,
 "nbformat_minor": 5
}
